{
 "cells": [
  {
   "cell_type": "code",
   "execution_count": 1,
   "id": "d0e9849d-2276-45d0-92cd-58cbb75452df",
   "metadata": {},
   "outputs": [],
   "source": [
    "import numpy as np\n",
    "from matplotlib import pyplot as plt\n",
    "from scipy.optimize import curve_fit"
   ]
  },
  {
   "cell_type": "markdown",
   "id": "6e00678b-48e8-451c-a13c-23566d422dff",
   "metadata": {},
   "source": [
    "# Tarea 3 - Computación Científica y Ciencia de los Datos\n",
    "\n",
    "## Simulación de N partículas en una caja: Convección de Rayleigh-Bénard\n",
    "\n",
    "**Nícolas Farfán Cheneaux**\n",
    "\n",
    "**Fecha: 29 de Abril 2024**\n",
    "\n",
    "## Introducción y presentación del tema\n",
    "La tarea se enfoca en la simulación del movimiento de partículas dentro de una caja bidimensional bajo condiciones específicas de temperatura, con el objetivo de estudiar la convección de Rayleigh-Bénard. Este fenómeno es un proceso fundamental en la dinámica de fluidos, donde el calor transferido a través de un fluido provoca movimientos convectivos que pueden dar lugar a patrones y comportamientos complejos. La simulación busca replicar y analizar estos patrones mediante un sistema de partículas interactuantes.\n",
    "\n",
    "La caja simulada tiene una temperatura más alta en la pared inferior y una temperatura más baja en la pared superior, con las paredes laterales siendo aislantes. Esta configuración imita las condiciones típicas de la convección térmica en un fluido, donde el gradiente de temperatura impulsa el movimiento de las partículas. Las partículas dentro de la caja interactúan según un modelo de fuerzas de Lennard-Jones, que es comúnmente utilizado para describir interacciones a nivel molecular en sistemas físicos.\n",
    "\n",
    "El objetivo principal de este estudio es simular y observar la formación de rollos de convección, que son estructuras típicas que aparecen en fluidos sometidos a diferencias de temperatura significativas. Estos rollos representan patrones de flujo circular donde el fluido caliente asciende y el frío desciende, formando bucles cerrados. Para captar estos fenómenos, se debe generar un mapa de calor que represente la distribución de temperatura en la caja, junto con un campo de flujo que visualice las velocidades de las partículas en movimiento.\n",
    "\n",
    "Este enfoque experimental permitirá explorar los principios de la convección térmica en un sistema simplificado, proporcionando una visión detallada de cómo las diferencias de temperatura pueden inducir comportamientos colectivos en un fluido. A través de la simulación y análisis, se pretende obtener una comprensión más profunda de los procesos físicos que subyacen a la convección de Rayleigh-Bénard, con aplicaciones potenciales en diversas áreas de la física y la ingeniería.\n",
    "\n",
    "## Objetivos\n",
    "1. Simular la Dinámica de Partículas en un Sistema Bidimensional: Desarrollar una simulación que modele el movimiento de partículas dentro de una caja bidimensional sometida a un gradiente de temperatura. Las partículas interactuarán mediante fuerzas de Lennard-Jones, lo que permitirá estudiar cómo estas interacciones afectan su comportamiento en un sistema cerrado.\n",
    "\n",
    "2. Estudiar la Convección de Rayleigh-Bénard: Observar y analizar la formación de rollos de convección en el sistema simulado. Estos patrones de flujo térmico son característicos en fluidos sometidos a diferencias de temperatura, y el objetivo es replicar estos fenómenos en la simulación para entender mejor su dinámica.\n",
    "\n",
    "3. Generar Mapas de Calor y Campos de Velocidad: Crear visualizaciones gráficas que representen la distribución de temperatura y el flujo de velocidades en el sistema. Los mapas de calor mostrarán cómo se distribuye la energía térmica dentro de la caja, mientras que los campos de velocidad representarán el movimiento colectivo de las partículas.\n",
    "\n",
    "4. Evaluar el Comportamiento del Sistema ante Diferentes Condiciones Iniciales: Experimentar con diferentes configuraciones de temperatura, número de partículas, y parámetros del modelo de Lennard-Jones para analizar cómo estos factores influyen en la dinámica general del sistema y en la formación de estructuras de convección.\n",
    "\n",
    "5. Aplicar Técnicas de Análisis Numérico y Simulación Computacional: Utilizar métodos numéricos avanzados, como el algoritmo de Runge-Kutta de cuarto orden, para simular la evolución del sistema a lo largo del tiempo, asegurando una representación precisa y estable de los fenómenos físicos involucrados.\n",
    "\n",
    "6. Desarrollar Competencias en la Modelización Física y la Programación Científica: Fomentar el aprendizaje práctico en modelización de sistemas físicos y simulación computacional, utilizando herramientas de programación para resolver problemas complejos en la dinámica de fluidos y transferencia de calor.\n",
    "\n",
    "## Experimento 1\n",
    "Se tiene una caja de tamaño a × a (ancho,alto), los choques con las paredes son elásticos, N partículas distribuidas inicialmente al azar con fuerzas de Lennard-Jones con ancho σ y velocidades iniciales al azar. Simule la evolución del sistema con Runge-Kutta y encuentre el tiempo en que se llega al equilibrio, es decir cuando el histograma de la distribución de rapidez permanece aproximadamente estable. Estime la temperatura de equilibrio del sistema con dicho histograma utilizando la distribución de Maxwell-Boltzman. En dicho equilibrio calcule la presión promediando esta en un intervalo de tiempo razonable. Con la temperatura T, el volumen (V = a^2), la cantidad de partículas N y la presión P concluya la relaci´on entre estas 3 variables. Puede utilizar valores de a en el entorno de 1 y para N que pueda computarse en un tiempo razonable y suficientemente grande para observar la fenomenología. Para los cálculos anteriores desarrolle funciones."
   ]
  },
  {
   "cell_type": "markdown",
   "id": "039a6aef-4e05-4adb-9780-0eacbdee54a6",
   "metadata": {},
   "source": [
    "### Inicialización de partículas\n",
    "Partículas con posiciones y velocidades aleatorias\n",
    "#### Parámetros\n",
    "- Tiempo inicial (ti): 0\n",
    "- Tiempo final (tf): 10\n",
    "- Número de steps: 30000\n",
    "- Número de partículas: 50\n",
    "- Tamaño de la caja: 1"
   ]
  },
  {
   "cell_type": "code",
   "execution_count": 2,
   "id": "75a29d2a-84f3-4768-8f99-1b3dd593fd8d",
   "metadata": {},
   "outputs": [],
   "source": [
    "ti = 0\n",
    "tf = 10\n",
    "n = 30000\n",
    "N = 50\n",
    "A = 1\n",
    "e=1\n",
    "o=2/200 # ancho/cantidad de pixeles para tener repulsion a c pixel"
   ]
  },
  {
   "cell_type": "markdown",
   "id": "0ae21d74-11d4-4906-ae1b-0eab48a807a4",
   "metadata": {},
   "source": [
    "### Runge Kutta de cuarto orden"
   ]
  },
  {
   "cell_type": "code",
   "execution_count": 3,
   "id": "2468eab0-4212-4cda-b247-2482ae442fc3",
   "metadata": {},
   "outputs": [],
   "source": [
    "def rk_iter(f, yi, h):\n",
    "    k1 = f(yi)\n",
    "    k2 = f(yi + h/2*k1)\n",
    "    k3 = f(yi + h/2*k2)\n",
    "    k4 = f(yi + h*k3)\n",
    "    return yi + h/6*(k1 + 2*k2 + 2*k3 + k4)\n",
    "\n",
    "def rk_solve(f, yi, ti, tf, n):\n",
    "    h = (tf - ti) / n\n",
    "    y = np.array(yi)\n",
    "    res = np.zeros((4, N, n), dtype=np.float64)\n",
    "    for i in range(n):\n",
    "        res[:, :, i] = y\n",
    "        y = rk_iter(f, y, h)\n",
    "        y[2, np.abs(y[0, :]) >= A/2] *= -1  # Rebote elástico en x\n",
    "        y[3, np.abs(y[1, :]) >= A/2] *= -1  # Rebote elástico en y\n",
    "    return res"
   ]
  },
  {
   "cell_type": "markdown",
   "id": "a75b9b05-3d99-4d39-9b9b-7a87edf4664e",
   "metadata": {},
   "source": [
    "### Fuerzas de interacción de Lennard-Jones Función: `f` \n",
    "\n",
    "#### Propósito:\n",
    "La función `f` calcula las fuerzas entre partículas en una simulación 2D, utilizando el potencial de Lennard-Jones. Está diseñada para simular interacciones físicas como atracción y repulsión basadas en las distancias entre partículas.\n",
    "\n",
    "#### Funcionalidad:\n",
    "- **Entrada**: Un array 2D `y` con las posiciones (primera mitad) y velocidades (segunda mitad) de las partículas.\n",
    "- **Salida**: Un array 2D `fres` del mismo tamaño que `y`, conteniendo las derivadas de las posiciones y velocidades para su uso en la integración de Runge-Kutta.\n",
    "\n",
    "#### Pasos:\n",
    "1. **Transferencia de Velocidades**: Transfiere directamente las velocidades de la entrada a la salida.\n",
    "2. **Cálculo de Distancias**:\n",
    "   - Calcula vectores de desplazamiento `Rij` entre pares de partículas.\n",
    "   - Deriva distancias al cuadrado `r2ij` a partir de estos desplazamientos.\n",
    "3. **Cálculo de Fuerzas**:\n",
    "   - Aplica el potencial de Lennard-Jones para calcular las fuerzas basadas en `r2ij`.\n",
    "   - Suma las fuerzas ejercidas por todas las demás partículas sobre cada partícula y actualiza sus velocidades en `fres`.\n",
    "\n",
    "#### Consideraciones:\n",
    "- Asegúrate de definir los parámetros `e` y `o` antes de invocar a `f`.\n",
    "- Fundamental para simular dinámicas realistas y estudiar propiedades como el equilibrio en sistemas confinados.\n",
    "\n",
    "### Ejemplo de Uso en Simulación:\n",
    "Esta función se invoca dentro de un esquema de integración numérica (como Runge-Kutta) para actualizar estados de partículas con el tiempo, permitiendo estudiar fenómenos como transiciones de fase y dinámicas de equilibrio."
   ]
  },
  {
   "cell_type": "code",
   "execution_count": 4,
   "id": "f0a0f46e-8ef7-4455-b69f-04c9e6a7b936",
   "metadata": {},
   "outputs": [],
   "source": [
    "def f(y):\n",
    "  a,b=y.shape\n",
    "  fres=np.zeros_like(y)\n",
    "  fres[0:a//2,:]=y[a//2:a,:] # velocidades\n",
    "#  Ri = np.reshape(y[0:a//2,:],(2,b,1))\n",
    "  Rij = y[0:a//2,:][...,np.newaxis] - y[0:a//2,:][:,np.newaxis,:] # shape (2, b, b)  --> (coordenadas, i, j)\n",
    "  r2ij = np.sum(Rij**2, axis=0)\n",
    "  np.fill_diagonal(r2ij,np.inf) # diagonal infinito\n",
    "  r2ij = r2ij[np.newaxis,...] # shape (1, b, b)\n",
    "\n",
    "# Fuerza entre pares de particulas\n",
    "  Fij = (48*e*o**6/r2ij**4) * ((o**6/r2ij**3) - 0.5)*Rij # shape (2,b,b)\n",
    "#  Fij = np.nan_to_num(Fij,copy=False,nan=0.0)\n",
    "#Fuerza total sobre i: la suma sobre todos los j\n",
    "# las fuerzas resultantes del mismo shape que y : (a,b)\n",
    "  fres[a//2:a,:] = np.sum(Fij, axis=2,) # shape (2,b)\n",
    "  return(fres)"
   ]
  },
  {
   "cell_type": "markdown",
   "id": "06a1c4fa-63e6-4dc5-a190-f30da50f5f38",
   "metadata": {},
   "source": [
    "### Inicialización de la matriz"
   ]
  },
  {
   "cell_type": "code",
   "execution_count": 5,
   "id": "1bc367db-8a6c-434d-968b-277fff0f673d",
   "metadata": {},
   "outputs": [],
   "source": [
    "yi = np.array([np.random.uniform(-A/2, A/2, size=N),\n",
    "               np.random.uniform(-A/2, A/2, size=N),\n",
    "               np.random.uniform(-1.0, 1.0, size=N),\n",
    "               np.random.uniform(-1.0, 1.0, size=N)])\n",
    "\n",
    "tray = rk_solve(f, yi, ti, tf, n)"
   ]
  },
  {
   "cell_type": "code",
   "execution_count": 6,
   "id": "27fbb782-9247-4394-985d-2818b88a7fd6",
   "metadata": {},
   "outputs": [
    {
     "data": {
      "text/plain": [
       "(4, 50, 30000)"
      ]
     },
     "execution_count": 6,
     "metadata": {},
     "output_type": "execute_result"
    }
   ],
   "source": [
    "tray.shape"
   ]
  },
  {
   "cell_type": "code",
   "execution_count": 7,
   "id": "028500fd-e6a7-4277-8b49-edacbd908381",
   "metadata": {},
   "outputs": [
    {
     "data": {
      "image/png": "[encoded data removed]",
      "text/plain": [
       "<Figure size 640x480 with 1 Axes>"
      ]
     },
     "metadata": {},
     "output_type": "display_data"
    }
   ],
   "source": [
    "plt.plot([-A/2,A/2,A/2,-A/2,-A/2],[-A/2,-A/2,A/2,A/2,-A/2])\n",
    "for k in range(0,N):\n",
    "  plt.plot(tray[0,k,:],tray[1,k,:])"
   ]
  },
  {
   "cell_type": "markdown",
   "id": "be645bd0-08e2-424f-bf6b-0d32122699b6",
   "metadata": {},
   "source": [
    "### Estimación de la temperatura en equilibrio usando distribución de rapidez de Maxwell-Boltzmann\n",
    "\n",
    "La función de densidad probabilística para la rapidez de una molécula en un gas de acuerdo a la distribución de Maxwell-Boltzmann está dada por:\n",
    "\n",
    "$$\n",
    "p(v \\in [v, v + dv]) = \\frac{mv}{kT} e^{-\\frac{mv^2}{2kT}}\n",
    "$$\n",
    "\n",
    "donde:\n",
    "- \\( m \\) es la masa de una partícula,\n",
    "- \\( v \\) es la rapidez de una partícula,\n",
    "- \\( k \\) es la constante de Boltzmann,\n",
    "- \\( T \\) es la temperatura de Kelvin."
   ]
  },
  {
   "cell_type": "code",
   "execution_count": 8,
   "id": "c544250d-a91e-4792-aed6-f6b19aabc878",
   "metadata": {},
   "outputs": [
    {
     "name": "stderr",
     "output_type": "stream",
     "text": [
      "C:\\Users\\n1c8l\\AppData\\Local\\Temp\\ipykernel_13276\\785293538.py:9: OptimizeWarning: Covariance of the parameters could not be estimated\n",
      "  p, cov = curve_fit(maxwell_boltzmann_dist, rb, freq)\n"
     ]
    },
    {
     "data": {
      "text/plain": [
       "1.0"
      ]
     },
     "execution_count": 8,
     "metadata": {},
     "output_type": "execute_result"
    }
   ],
   "source": [
    "v = np.sqrt(np.sum(tray[2:4, :]**2, axis=0))  # Velocidades\n",
    "freq, interv = np.histogram(v[:,n-1], bins=\"doane\")\n",
    "rb = interv[:-1] + np.diff(interv) / 2  # puntos centrales de cada intervalo\n",
    "freq = freq / N  # Normalizar frecuencias\n",
    "\n",
    "def maxwell_boltzmann_dist(r, c, T):\n",
    "    return c * r * np.exp(-r**2 / (2 * T))\n",
    "\n",
    "p, cov = curve_fit(maxwell_boltzmann_dist, rb, freq)\n",
    "T = p[1]  # Temperatura estimada\n",
    "T"
   ]
  },
  {
   "cell_type": "markdown",
   "id": "7cf5e4bd-6143-42a3-b790-4b4cfecaa4d0",
   "metadata": {},
   "source": [
    "### Interpretación resultado\n",
    "\n",
    "Un valor de T bajo, indica una energía cinética promedio baja en el sistema, lo que se traduce en partículas moviéndose a velocidades bajas. Esto es consistente con un sistema que tiene una cantidad de energía térmica baja."
   ]
  },
  {
   "cell_type": "markdown",
   "id": "d5fe1904-a849-4bf6-a820-872ca535722d",
   "metadata": {},
   "source": [
    "### Cálculo de la presión\n",
    "Se calcula la presión promedio en un sistema de partículas confinadas en una caja 2D. La función evalúa la presión basada en los choques elásticos de las partículas contra las paredes del contenedor. A través de la ley de conservación del momento, se estima la fuerza aplicada sobre las paredes durante los choques y, con esta información, se calcula la presión.\n",
    "\n",
    "La presión se calcula promediando los valores obtenidos en los últimos 100 pasos de tiempo para obtener una medida más estable y representativa del estado del sistema. Además de calcular la presión media, la función también determina la desviación estándar de la presión para evaluar la variabilidad y estabilidad de la misma a lo largo del tiempo."
   ]
  },
  {
   "cell_type": "code",
   "execution_count": 9,
   "id": "67e7f47e-4d79-440a-940f-65c5c27721f7",
   "metadata": {},
   "outputs": [
    {
     "name": "stdout",
     "output_type": "stream",
     "text": [
      "Presión promedio: 1643462272999386.2, Desviación estándar: 840062438968408.4\n"
     ]
    }
   ],
   "source": [
    "mass = 1\n",
    "time_steps_to_average = 100\n",
    "\n",
    "def calculate_pressure(trayectoria, A, n, dt, time_steps_to_average):\n",
    "    pressures = []\n",
    "    \n",
    "    for i in range(-time_steps_to_average, 0): \n",
    "        colisiones_x = np.abs(trayectoria[0, :, i]) >= A/2\n",
    "        colisiones_y = np.abs(trayectoria[1, :, i]) >= A/2\n",
    "        \n",
    "        fchx = np.abs(2 * mass * trayectoria[2, colisiones_x, i] / dt)\n",
    "        fchy = np.abs(2 * mass * trayectoria[3, colisiones_y, i] / dt)\n",
    "        \n",
    "        pressure = (np.sum(fchx) + np.sum(fchy)) / (4 * A)\n",
    "        pressures.append(pressure)\n",
    "    \n",
    "    average_pressure = np.mean(pressures)\n",
    "    std_pressure = np.std(pressures)\n",
    "    \n",
    "    return average_pressure, std_pressure\n",
    "\n",
    "P, std_P = calculate_pressure(tray, A, n, (tf - ti) / n, time_steps_to_average)\n",
    "print(f\"Presión promedio: {P}, Desviación estándar: {std_P}\")"
   ]
  },
  {
   "cell_type": "markdown",
   "id": "cee3b3ee-2b48-4faf-9352-6f244960a7a3",
   "metadata": {},
   "source": [
    "#### Volumen de la caja"
   ]
  },
  {
   "cell_type": "code",
   "execution_count": 10,
   "id": "326ea733-d4f4-434e-9a63-4b2554cdafc7",
   "metadata": {},
   "outputs": [
    {
     "data": {
      "text/plain": [
       "1"
      ]
     },
     "execution_count": 10,
     "metadata": {},
     "output_type": "execute_result"
    }
   ],
   "source": [
    "V = A**2\n",
    "V"
   ]
  },
  {
   "cell_type": "markdown",
   "id": "1aa948ab-bc6c-44e5-930e-eda07bdd474d",
   "metadata": {},
   "source": [
    "### La Ley de los Gases Ideales\n",
    "\n",
    "La relación entre la presión (P), el volumen (V), el número de partículas (N) y la temperatura (T) en un gas se da por la *Ley de los Gases Ideales*, que se expresa como:\n",
    "\n",
    "$$\n",
    "PV = NkT\n",
    "$$\n",
    "\n",
    "donde:\n",
    "\n",
    "- \\( P \\) es la presión del gas,\n",
    "- \\( V \\) es el volumen del contenedor,\n",
    "- \\( N \\) es el número de partículas,\n",
    "- \\( k \\) es la constante de Boltzmann,"
   ]
  },
  {
   "cell_type": "markdown",
   "id": "1c597ce0-a06a-4b11-8efc-d2b2296279d0",
   "metadata": {},
   "source": [
    "### Análisis de la relación entre las variables\n",
    "#### Desviación del Comportamiento Ideal:\n",
    "Un valor que es significativamente mayor que 1, sugiere una desviación notable del comportamiento ideal. Esto podría deberse a varias razones físicas o a imprecisiones en la medición o en los parámetros de la simulación.\n",
    "\n",
    "#### Interacciones entre Partículas:\n",
    "En gases reales, las interacciones entre partículas (atracciones y repulsiones) pueden afectar significativamente el comportamiento del gas, especialmente bajo condiciones de alta presión o baja temperatura, donde las aproximaciones de un gas ideal ya no son válidas.\n",
    "\n",
    "#### Condensación o Fases No Ideales:\n",
    "Si el gas está cerca de su punto de condensación o si hay fases mixtas presentes, la relación PV=NkT podría no sostenerse."
   ]
  },
  {
   "cell_type": "markdown",
   "id": "5fb406ed-1788-400e-8ca9-0c0384e6f552",
   "metadata": {},
   "source": [
    "### Histograma de Velocidades"
   ]
  },
  {
   "cell_type": "code",
   "execution_count": 11,
   "id": "1240a56c-2495-4cc2-a158-be42c2da4907",
   "metadata": {},
   "outputs": [
    {
     "data": {
      "image/png": "[encoded data removed]",
      "text/plain": [
       "<Figure size 800x600 with 1 Axes>"
      ]
     },
     "metadata": {},
     "output_type": "display_data"
    }
   ],
   "source": [
    "v = np.array(v).flatten()\n",
    "\n",
    "plt.figure(figsize=(8, 6))\n",
    "plt.hist(v, bins=\"doane\", color='skyblue', edgecolor='black')\n",
    "plt.title('Distribución de velocidad en equilibrio')\n",
    "plt.xlabel('Velocidad (m/s)')\n",
    "plt.ylabel('Frecuencia')\n",
    "plt.show()"
   ]
  },
  {
   "cell_type": "markdown",
   "id": "c298347e-ea01-44d3-a018-d4ccfad24e7c",
   "metadata": {},
   "source": [
    "### Análisis del Histograma\n",
    "#### Pico de la Distribución:\n",
    "\n",
    "El pico indica la velocidad más probable de las partículas en el sistema. En el contexto de un gas, esto no necesariamente corresponde a la velocidad media o mediana, sino al modo de la distribución.\n",
    "\n",
    "#### Forma de la Distribución:\n",
    "\n",
    "La distribución tiene forma de campana, típica de sistemas térmicos donde las velocidades de las partículas están gobernadas por la energía térmica. La forma específica debería idealmente corresponder a una distribución de Maxwell-Boltzmann para un gas ideal, que describe cómo las velocidades de las partículas están distribuidas debido a movimientos aleatorios y colisiones.\n",
    "\n",
    "#### Ancho de la Distribución:\n",
    "\n",
    "El ancho o dispersión del histograma refleja el rango de velocidades de las partículas. Una distribución más amplia implica una temperatura más alta, ya que la temperatura es una medida de la energía cinética media de las partículas.\n",
    "\n",
    "### Implicaciones del Sistema\n",
    "#### Equilibrio Térmico:\n",
    "\n",
    "Si las partículas siguen esta distribución, sugiere que el sistema ha alcanzado el equilibrio térmico, donde todas las partes del sistema tienen la misma temperatura y las propiedades del sistema no cambian con el tiempo.\n",
    "\n",
    "#### Teoría Cinética de los Gases:\n",
    "\n",
    "Esta distribución respalda la teoría cinética de los gases, que afirma que las velocidades de las partículas de un gas están distribuidas de una manera descrita por la distribución de Maxwell-Boltzmann debido a movimientos aleatorios y colisiones.\n",
    "\n",
    "### Conclusión sobre la Relación entre las Variables en un Gas Ideal\n",
    "La Ley de los Gases Ideales PV=NkT, es fundamental para entender cómo las propiedades macroscópicas de un gas están determinadas por las condiciones microscópicas y los parámetros estadísticos de sus partículas. En esta ley, cada variable juega un papel crucial:\n",
    "\n",
    "Presión (P): Es una medida de la fuerza por unidad de área que las partículas ejercen sobre las paredes del contenedor. A medida que aumenta el número de partículas o su energía cinética (influenciada por la temperatura), la presión tiende a aumentar, asumiendo que el volumen del contenedor permanece constante.\n",
    "\n",
    "Volumen (V): Representa el espacio tridimensional disponible para que las partículas se muevan. A mayor volumen, las partículas tienen más espacio para distribuirse, resultando en una menor presión si el número de partículas y la temperatura se mantienen constantes.\n",
    "\n",
    "Número de Partículas (N): Indica cuántas partículas hay en el sistema. Un aumento en el número de partículas generalmente aumenta la presión, dado que más partículas impactan las paredes del contenedor.\n",
    "\n",
    "Temperatura (T): Está directamente relacionada con la energía cinética media de las partículas. A mayor temperatura, mayor es la energía cinética de cada partícula, lo que se traduce en colisiones más frecuentes y enérgicas contra las paredes del contenedor, aumentando la presión."
   ]
  },
  {
   "cell_type": "markdown",
   "id": "11e0b5cc-baea-41ac-ae08-6dfca9709c34",
   "metadata": {},
   "source": [
    "## Experimento 2"
   ]
  },
  {
   "cell_type": "markdown",
   "id": "af27e572-58a7-4566-bb95-c1b2659ca31b",
   "metadata": {},
   "source": [
    "### Experimento de Convección en una Caja 2D\n",
    "\n",
    "Este experimento simula el movimiento de N partículas en una caja de dimensiones axa (ancho × alto). Las partículas interactúan mediante fuerzas de Lennard-Jones y experimentan condiciones de contorno térmicas y elásticas diferentes:\n",
    "\n",
    "- **Paredes Verticales (laterales)**: Las colisiones son elásticas, lo que significa que las partículas simplemente invierten su componente de velocidad perpendicular a la pared al colisionar.\n",
    "- **Paredes Horizontales (superior e inferior)**: Al inicio, todas las paredes tienen choques elásticos. Después de alcanzar el equilibrio inicial, las temperaturas de las paredes superior e inferior se ajustan a T2 y T1 respectivamente, donde T1 > T2. Las partículas que colisionan con estas paredes regresan con una velocidad aleatoria siguiendo una distribución de Maxwell-Boltzmann y una dirección aleatoria uniforme, simbolizando diferentes temperaturas térmicas.\n",
    "\n",
    "El objetivo es observar la formación de flujos de convección y rollos convectivos que emergen debido a las diferencias de temperatura entre las paredes superior e inferior.\n"
   ]
  },
  {
   "cell_type": "markdown",
   "id": "34d19879-0bcf-46db-ac20-c3dbcffdf4f4",
   "metadata": {},
   "source": [
    "### Parámetros"
   ]
  },
  {
   "cell_type": "code",
   "execution_count": null,
   "id": "c6bf5fbe-bbeb-4af1-9a16-74e0e1d5bce4",
   "metadata": {},
   "outputs": [],
   "source": [
    "a = 1.0  # Altura de la caja\n",
    "A = 2 * a  # Ancho de la caja\n",
    "N = 100  # Número de partículas (ajustar según capacidad de cómputo)\n",
    "T1 = 2.0  # Temperatura de la pared inferior\n",
    "T2 = 1.0  # Temperatura de la pared superior\n",
    "sigma = 0.1  # Parámetro sigma de Lennard-Jones\n",
    "epsilon = 1.0  # Parámetro epsilon de Lennard-Jones\n",
    "h = 0.01  # Paso de tiempo\n",
    "tf = 10.0  # Tiempo final de la simulación\n",
    "time_steps = int(tf / h)"
   ]
  },
  {
   "cell_type": "markdown",
   "id": "ebe55758-12b2-4508-9ed8-574ec105e8a5",
   "metadata": {},
   "source": [
    "### Inicialización"
   ]
  },
  {
   "cell_type": "code",
   "execution_count": null,
   "id": "23199153-96fb-4d3f-9124-5ce1cbcc9341",
   "metadata": {},
   "outputs": [],
   "source": [
    "posiciones = np.random.rand(2, N) * np.array([[A], [a]])\n",
    "velocidades = np.random.randn(2, N) * np.sqrt(T1)"
   ]
  },
  {
   "cell_type": "markdown",
   "id": "f80b5d40-aab5-4066-b522-90793d6105a6",
   "metadata": {},
   "source": [
    "### Función de Lennard-Jones"
   ]
  },
  {
   "cell_type": "code",
   "execution_count": null,
   "id": "e4b1b0ab-08f3-4e75-b530-3a6c6beac040",
   "metadata": {},
   "outputs": [],
   "source": [
    "def fuerza_lennard_jones(r, sigma, epsilon):\n",
    "    r2 = np.sum(r**2, axis=0)\n",
    "    r6 = r2**3\n",
    "    r12 = r6**2\n",
    "    f = 48 * epsilon * ((sigma**12 / r12) - 0.5 * (sigma**6 / r6)) / r2\n",
    "    return f * r"
   ]
  },
  {
   "cell_type": "markdown",
   "id": "d80e106e-fe20-4099-9906-704e6db84e57",
   "metadata": {},
   "source": [
    "### Función de evolución"
   ]
  },
  {
   "cell_type": "code",
   "execution_count": 12,
   "id": "d4528004-305f-434d-99ba-214dec746e93",
   "metadata": {},
   "outputs": [],
   "source": [
    "def evolucion(posiciones, velocidades, h, sigma, epsilon, A, a, T1, T2):\n",
    "    tray = np.zeros((2, N, time_steps))\n",
    "    for t in range(time_steps):\n",
    "        # Calcular fuerzas\n",
    "        fuerzas = np.zeros_like(posiciones)\n",
    "        for i in range(N):\n",
    "            for j in range(i + 1, N):\n",
    "                r = posiciones[:, i] - posiciones[:, j]\n",
    "                f = fuerza_lennard_jones(r, sigma, epsilon)\n",
    "                fuerzas[:, i] += f\n",
    "                fuerzas[:, j] -= f\n",
    "        \n",
    "        # Evolución con Runge-Kutta de cuarto orden\n",
    "        k1v = h * fuerzas\n",
    "        k1p = h * velocidades\n",
    "        k2v = h * (fuerzas + 0.5 * k1v)\n",
    "        k2p = h * (velocidades + 0.5 * k1p)\n",
    "        k3v = h * (fuerzas + 0.5 * k2v)\n",
    "        k3p = h * (velocidades + 0.5 * k2p)\n",
    "        k4v = h * (fuerzas + k3v)\n",
    "        k4p = h * (velocidades + k3p)\n",
    "        \n",
    "        posiciones += (k1p + 2 * k2p + 2 * k3p + k4p) / 6\n",
    "        velocidades += (k1v + 2 * k1v + 2 * k3v + k4v) / 6\n",
    "        \n",
    "        # Choques con paredes\n",
    "        for i in range(N):\n",
    "            # Paredes laterales (choques elásticos)\n",
    "            if posiciones[0, i] < 0 or posiciones[0, i] > A:\n",
    "                velocidades[0, i] *= -1\n",
    "            # Pared inferior\n",
    "            if posiciones[1, i] < 0:\n",
    "                posiciones[1, i] = 0\n",
    "                velocidades[:, i] = np.random.randn(2) * np.sqrt(T1)\n",
    "            # Pared superior\n",
    "            if posiciones[1, i] > a:\n",
    "                posiciones[1, i] = a\n",
    "                velocidades[:, i] = np.random.randn(2) * np.sqrt(T2)\n",
    "        \n",
    "        tray[:, :, t] = posiciones\n",
    "    \n",
    "    return posiciones, velocidades, tray"
   ]
  },
  {
   "cell_type": "markdown",
   "id": "ea85448c-322a-4c6d-9993-3f6e3b95eed4",
   "metadata": {},
   "source": [
    "### Explicación del Código\n",
    "\n",
    "En este experimento, tenemos una caja de tamaño 2a x a con N partículas que interactúan mediante fuerzas de Lennard-Jones. Las paredes superiores e inferiores de la caja tienen temperaturas diferentes (T2 y T1, respectivamente), mientras que las paredes laterales son elásticas.\n",
    "\n",
    "1. **Inicialización**:\n",
    "   - Se establecen los parámetros de la caja, el número de partículas, y las temperaturas de las paredes.\n",
    "   - Las posiciones iniciales de las partículas se distribuyen aleatoriamente dentro de la caja.\n",
    "   - Las velocidades iniciales se asignan con una distribución aleatoria acorde a la temperatura T1.\n",
    "\n",
    "2. **Fuerza de Lennard-Jones**:\n",
    "   - Se define la función para calcular la fuerza de Lennard-Jones entre partículas.\n",
    "\n",
    "3. **Evolución del Sistema**:\n",
    "   - Utilizando el método de Runge-Kutta de cuarto orden, se calcula la evolución temporal del sistema.\n",
    "   - Las fuerzas entre partículas se actualizan en cada paso de tiempo.\n",
    "   - Se actualizan las posiciones y velocidades de las partículas considerando las fuerzas calculadas.\n",
    "   - Se manejan los choques con las paredes: elásticos para las paredes laterales, y con redistribución aleatoria de la velocidad para las paredes superior e inferior según las temperaturas T1 y T2."
   ]
  },
  {
   "cell_type": "markdown",
   "id": "0cf8ec95-e16c-4ef9-9ab2-809045a63897",
   "metadata": {},
   "source": [
    "### Simulación"
   ]
  },
  {
   "cell_type": "code",
   "execution_count": null,
   "id": "f1dd6ea5-4531-4f46-81aa-0f0c72816c4d",
   "metadata": {},
   "outputs": [],
   "source": [
    "posiciones, velocidades, tray = evolucion(posiciones, velocidades, h, sigma, epsilon, A, a, T1, T2)\n",
    "\n",
    "XX = 0\n",
    "YY = 1\n",
    "\n",
    "# Verificar posiciones de partículas dentro de la caja\n",
    "tray = np.mod(tray, A)"
   ]
  },
  {
   "cell_type": "markdown",
   "id": "4ec9a8a2-59aa-4e89-b137-accc72f0b9cb",
   "metadata": {},
   "source": [
    "### Gráfico de distribución de partículas"
   ]
  },
  {
   "cell_type": "code",
   "execution_count": 13,
   "id": "d3e7dde5-6326-417d-8cc4-e80839ae769a",
   "metadata": {},
   "outputs": [
    {
     "data": {
      "image/png": "[encoded data removed]",
      "text/plain": [
       "<Figure size 800x600 with 1 Axes>"
      ]
     },
     "metadata": {},
     "output_type": "display_data"
    }
   ],
   "source": [
    "plt.figure(figsize=(8, 6))\n",
    "plt.scatter(tray[XX, :, -1], tray[YY, :, -1], s=10, alpha=0.5)\n",
    "plt.title('Distribución de partículas después de la simulación')\n",
    "plt.xlabel('Posición en x')\n",
    "plt.ylabel('Posición en y')\n",
    "plt.xlim(0, 2)\n",
    "plt.ylim(0, 1)\n",
    "plt.grid(True)\n",
    "plt.show()"
   ]
  },
  {
   "cell_type": "markdown",
   "id": "412f2834-1b2e-4f58-b9e2-edd7c182c019",
   "metadata": {},
   "source": [
    "## Explicación del Gráfico de Distribución de Partículas\n",
    "\n",
    "En el gráfico se muestra la distribución de las partículas después de realizar la simulación en una caja de tamaño 2a x a, donde \\(a\\) es la altura de la caja. Aquí se observa cómo las partículas se distribuyen espacialmente tras la simulación con paredes de temperatura diferente (superior e inferior) y paredes laterales con choques elásticos.\n",
    "\n",
    "### Observaciones del Gráfico\n",
    "- **Distribución Vertical**: Las partículas parecen agruparse en cuatro regiones distintas a lo largo de la dimensión vertical. Esto puede ser un indicativo de la influencia de las temperaturas diferentes en las paredes superior e inferior, creando posibles zonas de convección donde las partículas se agrupan debido a las corrientes térmicas.\n",
    "- **Distribución Horizontal**: Hay cierta dispersión en la dimensión horizontal, pero parece haber una tendencia a formar grupos más concentrados. Esto puede estar relacionado con los choques elásticos en las paredes laterales, que mantienen las partículas dentro de la caja.\n",
    "\n",
    "### Comportamiento Térmico\n",
    "- **Convección**: La configuración del sistema con una pared inferior a mayor temperatura y una pared superior a menor temperatura induce movimientos de convección. Las partículas calientes tienden a subir, mientras que las partículas frías tienden a bajar, lo que puede llevar a la formación de rollos convectivos.\n",
    "- **Agrupamientos**: Los agrupamientos observados pueden ser una consecuencia de estas corrientes convectivas que empujan las partículas hacia ciertas áreas específicas de la caja.\n",
    "\n",
    "### Conclusión\n",
    "El gráfico refleja cómo las partículas se comportan bajo la influencia de diferentes temperaturas en las paredes superior e inferior, además de los choques elásticos en las paredes laterales. Esta distribución no es uniforme y sugiere la formación de corrientes convectivas que agrupan las partículas en ciertas regiones de la caja. Este análisis es fundamental para comprender los efectos térmicos y dinámicos en sistemas de partículas confinadas con interacciones de Lennard-Jones."
   ]
  },
  {
   "cell_type": "markdown",
   "id": "82b9a556-a00d-4ee7-a64a-1f264524527c",
   "metadata": {},
   "source": [
    "## Experimento 3 Mapa de Calor\n",
    "### Calculo de las velocidades a partir de las posiciones"
   ]
  },
  {
   "cell_type": "code",
   "execution_count": 18,
   "id": "ac4e732f-4e1a-47af-bd2c-791415f43db3",
   "metadata": {},
   "outputs": [],
   "source": [
    "n_steps = tray.shape[2]\n",
    "n_particles = tray.shape[1]\n",
    "n_regions = 10  # Area de una cuadrícula de 10x10 subregiones\n",
    "\n",
    "# Posiciones en el tiempo final\n",
    "x_pos = tray[0, :, -1]\n",
    "y_pos = tray[1, :, -1]"
   ]
  },
  {
   "cell_type": "markdown",
   "id": "3523626d-a2d8-4ca8-b735-2c7b91efacf6",
   "metadata": {},
   "source": [
    "### Cálculo de las velocidades aproximadas"
   ]
  },
  {
   "cell_type": "code",
   "execution_count": 19,
   "id": "4e902cff-4f2e-4f00-9c1e-61e6961c0a21",
   "metadata": {},
   "outputs": [],
   "source": [
    "vx = np.diff(tray[0, :, :], axis=1) / np.diff(np.arange(n_steps))\n",
    "vy = np.diff(tray[1, :, :], axis=1) / np.diff(np.arange(n_steps))\n",
    "\n",
    "vx = vx[:, -1]\n",
    "vy = vy[:, -1]"
   ]
  },
  {
   "cell_type": "markdown",
   "id": "553082b3-1535-4de4-99cb-aef376bef90c",
   "metadata": {},
   "source": [
    "### Definición de la cuadrícula 2d y los promedios de cada subregión"
   ]
  },
  {
   "cell_type": "code",
   "execution_count": 20,
   "id": "2ec8a734-b2cf-4817-bd8b-5bf6bcd67cf6",
   "metadata": {},
   "outputs": [],
   "source": [
    "x_bins = np.linspace(min(x_pos), max(x_pos), n_regions+1)\n",
    "y_bins = np.linspace(min(y_pos), max(y_pos), n_regions+1)\n",
    "\n",
    "# Inicializamos matrices para temperatura y flujo de velocidades\n",
    "temperature_map = np.zeros((n_regions, n_regions))\n",
    "velocity_map = np.zeros((n_regions, n_regions))\n",
    "\n",
    "for i in range(n_regions):\n",
    "    for j in range(n_regions):\n",
    "        mask = (x_pos >= x_bins[i]) & (x_pos < x_bins[i+1]) & (y_pos >= y_bins[j]) & (y_pos < y_bins[j+1])\n",
    "        velocities = np.sqrt(vx[mask]**2 + vy[mask]**2)\n",
    "        if len(velocities) > 0:\n",
    "            temperature_map[i, j] = np.mean(velocities**2)  # Promedio de energía cinética\n",
    "            velocity_map[i, j] = np.mean(velocities)  # Promedio de velocidad"
   ]
  },
  {
   "cell_type": "markdown",
   "id": "237a3869-7940-4eef-b8cc-9a2dfa297555",
   "metadata": {},
   "source": [
    "### Gráficos"
   ]
  },
  {
   "cell_type": "code",
   "execution_count": 22,
   "id": "9980ebdb-f3d6-42c4-a6ff-ab46a7b3862c",
   "metadata": {},
   "outputs": [
    {
     "data": {
      "image/png": "[encoded data removed]",
      "text/plain": [
       "<Figure size 1200x600 with 4 Axes>"
      ]
     },
     "metadata": {},
     "output_type": "display_data"
    }
   ],
   "source": [
    "fig, axs = plt.subplots(1, 2, figsize=(12, 6))\n",
    "\n",
    "c1 = axs[0].imshow(temperature_map.T, origin='lower', extent=[min(x_pos), max(x_pos), min(y_pos), max(y_pos)], cmap='hot')\n",
    "axs[0].set_title('Mapa de Calor de la Temperatura')\n",
    "axs[0].set_xlabel('x')\n",
    "axs[0].set_ylabel('y')\n",
    "fig.colorbar(c1, ax=axs[0])\n",
    "\n",
    "c2 = axs[1].imshow(velocity_map.T, origin='lower', extent=[min(x_pos), max(x_pos), min(y_pos), max(y_pos)], cmap='cool')\n",
    "axs[1].set_title('Mapa de Calor del Flujo de Velocidades')\n",
    "axs[1].set_xlabel('x')\n",
    "axs[1].set_ylabel('y')\n",
    "fig.colorbar(c2, ax=axs[1])\n",
    "\n",
    "plt.show()"
   ]
  }
 ],
 "metadata": {
  "kernelspec": {
   "display_name": "Python 3 (ipykernel)",
   "language": "python",
   "name": "python3"
  },
  "language_info": {
   "codemirror_mode": {
    "name": "ipython",
    "version": 3
   },
   "file_extension": ".py",
   "mimetype": "text/x-python",
   "name": "python",
   "nbconvert_exporter": "python",
   "pygments_lexer": "ipython3",
   "version": "3.12.5"
  }
 },
 "nbformat": 4,
 "nbformat_minor": 5
}
